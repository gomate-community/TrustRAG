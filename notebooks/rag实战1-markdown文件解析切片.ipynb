{
 "cells": [
  {
   "cell_type": "markdown",
   "id": "81b0abe3-052f-41e4-bcc3-ce34ba13ac0e",
   "metadata": {},
   "source": [
    "最近遇到几个伙伴关于markdown解析的问题，都是比较偏向于实际使用场景的，这里我们一开始我们去做markdown文件解析会自觉的会困在一个陷阱，就是：\n",
    "\n",
    ">我们想把Markdown文件解析效果想的太过理想，会不自觉的与实际生产稳当绑定一起，可能想把Markdown解析数据转成树结构更合理些，但同时考虑内容各式各样，那么这个时候很难下手，不知道怎么去写，常常思考过了半个小时后一行代码也没有写出来。\n",
    "\n",
    "下面不妨我们尝试把Markdown解析做的**更通用一些**，其他文件类型解析也是这样的套路\n",
    ">基本上是“File”->\"Document\"->\"Paragraph\"-\"Chunk\"\n",
    "\n",
    "针对不同类型的知识，我们解析做的效果尽量是将检索信息喂给大模型的时候，我们解析加工的内容不是那么`狼吞虎咽`，也不是那么`细嚼慢咽`\n",
    "\n",
    "Markdown是带有标题标签的，比如一级标题`#`,二级标题`##`等等，我们可以根据这些标签进行识别段落以及切片。\n",
    "\n",
    "我们下面采用一个思路，大致是首先识别输出标题以及标题下面对应的内容，然后在标题对应内容内部切片，切片的时候同时保证语义完整。具体做法：\n",
    "\n",
    "- 能够正确加载解析md文件，识别对应节点类型\n",
    "- 识别合并出一级标题以及一级标题对应的内容，得到的结果我们称之为段落`paragraph`\n",
    "- 然后我们在段落内部按照切块算法进行切片，得到的结果我们称之为`chunk`,注意我们采用固定窗口大小的方法，同时需要保证语义的完整性。\n"
   ]
  },
  {
   "cell_type": "markdown",
   "id": "02efd747-3579-47ba-8513-f81d0a764b49",
   "metadata": {},
   "source": [
    "## 第一步：Mardkdown文件解析\n",
    "下面是用langchain解析Markdown例子来做抛砖引玉，例子我们直接参考官方文档[https://python.langchain.com/v0.2/docs/how_to/document_loader_markdown/](https://python.langchain.com/v0.2/docs/how_to/document_loader_markdown/)加载一个本地md文件"
   ]
  },
  {
   "cell_type": "code",
   "execution_count": 1,
   "id": "6d2be4fa-b036-4c2f-bf51-a0619a8c9ca2",
   "metadata": {},
   "outputs": [],
   "source": [
    "from langchain_community.document_loaders import UnstructuredMarkdownLoader\n",
    "from langchain_core.documents import Document\n",
    "\n",
    "markdown_path = \"../data/docs/基础知识.md\"\n",
    "loader = UnstructuredMarkdownLoader(markdown_path)\n",
    "\n",
    "data = loader.load()\n",
    "# assert len(data) == 1\n",
    "# assert isinstance(data[0], Document)\n",
    "# readme_content = data[0].page_content\n",
    "# print(readme_content[:250])"
   ]
  },
  {
   "cell_type": "code",
   "execution_count": 2,
   "id": "a112d55c-26b7-4d40-98fa-939b882ffa38",
   "metadata": {},
   "outputs": [],
   "source": [
    "# data"
   ]
  },
  {
   "cell_type": "code",
   "execution_count": 3,
   "id": "c18e37f7-36a7-4681-b4b4-8fa5bd691fa3",
   "metadata": {},
   "outputs": [
    {
     "data": {
      "text/plain": [
       "([Document(metadata={'source': '../data/docs/基础知识.md'}, page_content='这是一篇关于5G基础知识的文章\\n\\n5G基础知识\\n\\n5G背景\\n\\n流量指数级增长、人与人的通信过度到人与物和物与物、应用场景多样化这三方面催生了 5G。\\n\\n2G、3G、4G 主要解决人与人之间的通信，5G 不仅要解决人与人之间的通信，而且要解决人与物、物与物之间的通信，从而达成万物互联的目的。\\n\\n5G新技术三个特征\\n\\n新核心网\\n\\n4G 核心网就像是在一块空地上建好的房子，每个房间都有其固定用途，不能用作他用。而 5G 核心网只提供了地皮和一些标准件，我们可以像搭积木一样随心所欲的按照自己喜欢的房间样式自由组合；\\n\\n新传输网\\n\\nSPN 具备前传、中传和回传的端到端组网能力，支持端到端网络硬切片能力，满足动态灵活连接需求；\\n\\n新无线网\\n\\n频谱效率提升 3 倍，连接数密度提升 10 倍，峰值速率提升 10 倍，空口时延迟为降低到原来的 1/10；\\n\\n5G三大场景\\n\\neMMB 增强移动宽带\\n\\nuRLLC 超高可靠性与超低时延业务\\n\\nmMTC 海量物联网通信\\n\\n用户体验速率是 4G 的 10-100 倍，每平方公里的链接数是 4G 的 10 倍，典型场景的时延可低至 10ms 以内。\\n\\n5G与4G的对比\\n\\n5G 网络像一个魔方，它可以根据需求不停变形，从而满足个人或者企业不同的个性化需求。\\n\\n4G 网络千人一面，5G 网络千人千面。\\n\\n5G与WiFi的对比\\n\\nWiFi 秉承互联网“始终尽力而为”的传统：“不管什么情况，我尽可能给您快，不保障一直够快，偶尔卡死，您见谅！”。\\n\\n5G 则秉承着更有保障的 QoS 承诺，紧急业务时延一定可控，非紧急业务尽力而为。不同WiFi 需要手动连接，5G 无缝切换。\\n\\n5G与有线的对比\\n\\n剪掉辫子，随时随地不受限。有线易磨损，改造成本高。5G 无线让最后一公里的接入更灵活。\\n\\n5G 专网知识\\n\\n基本概念\\n\\n基于授权频谱，为专有行业客户提供服务范围、网络能力、隔离度可定制的 5G 通信服务。\\n\\n专网模式\\n\\n优享：复用大网资源，通过配置 5QI、DNN、网络切片等保障行业用户的 QOS。\\n\\n专享：无线侧按需补点增强覆盖，PRB 资源预留，核心网用户面UPF 和边缘计算MEP 设备按需下沉。\\n\\n尊享：基站和频率资源独享实现高隔离高可靠，核心网用户面专用，控制面资源按需提供。\\n\\nBAF商业模式\\n\\nBAF 网络服务模式基于 5G 产品清单，包括 3 项基础架构（B），12 项增值功能（A），个性化组合(Flexible)，满足客户的个性化需求实现让客户“按单点菜”。\\n\\n用户面功能 UPF\\n\\n可以把UPF 看成一个路由器主要实现分流，5GC 核心网上面的网元 SMF 制定分流策略，\\n\\n通过 DNN 或ULCL 的方式，需要到达内网的数据可以直接进行 MEC，MEC 处理后，进入用户的内网，这样的数据传输环节将大大减小，适合许多时延要求较高的应用，同时基于 5G 的特性，可以传输类似于视频之类的大数据业务。\\n\\n边缘计算 MEC\\n\\n边缘计算最常用的比喻就是章鱼的神经系统。它的大脑作为中央节点只处理 40%的信息，主要负责总体协同，剩余的 60%的信息则由 8 条触手（相当于边缘节点）就近处理。\\n\\n网络切片\\n\\n说 4G 网络是一把刀，足可削铁如泥、吹毛断发。那么，5G 网络就是一把瑞士军刀，灵活方便、多功能用途。每个虚拟网络就像是瑞士军刀上的钳子、锯子一样，具备不同的功能特点，面向不同的需求和服务。\\n\\n边缘云\\n\\n把云计算看作是大脑，那么边缘计算就像是大脑输出的神经触角，这些触角连接到各个终端运行各种动作。\\n\\n5G 双域专网\\n\\n基本概念\\n\\n以 5G 专网为基础提供服务于 5G 用户的 2B2C 双域网络模式，可满足企业用户“不换卡、不换号、无感知切换”，随时随地、安全快捷访问办公内网和互联网，助力企业办公移动化、灵活化。\\n\\n应用场景\\n\\n（1） 强调“广域接入”，移动终端“不换卡不换号”、强调支持特定号码全国漫游自由接入双域专网；\\n\\n（2） 强调“局域接入”，移动终端“不换卡不换号”、强调支持特定号码、特定区域自由接入双域专网，要求出区域禁止访问专网。\\n\\n（3） 强调“局域接入”，移动终端“不换卡不换号”、强调支持非特定号码、特定区域自由接入双域专网，要求出区域禁止访问专网。\\n\\n实现方案\\n\\n（1）通用 DNN+ULCL；（2）专用 DNN+IP 分流；（3）通用 DNN+ULCL+专用 DNN（可选）；（4）通用 DNN+专用 DNN+IP 分流。')],\n",
       " 1)"
      ]
     },
     "execution_count": 3,
     "metadata": {},
     "output_type": "execute_result"
    }
   ],
   "source": [
    "data,len(data)"
   ]
  },
  {
   "cell_type": "markdown",
   "id": "9bc48876-3c3f-4a30-9b69-c2ab66f8bf8a",
   "metadata": {},
   "source": [
    "上面代码是直接加载整个markdown文件，然后把整个文件内容封装成Document对象"
   ]
  },
  {
   "cell_type": "markdown",
   "id": "128b0aee-4286-43c0-abad-4c1c8f91d57d",
   "metadata": {},
   "source": [
    "如果解析每个标题节点，我们可以使用，可以使用下面一行代码轻松识别所有节点元素，只需要加个参数`mode=\"elements\"`。"
   ]
  },
  {
   "cell_type": "code",
   "execution_count": 4,
   "id": "d78c006a-d0b7-4824-a685-1e7794692174",
   "metadata": {},
   "outputs": [
    {
     "name": "stdout",
     "output_type": "stream",
     "text": [
      "Number of documents: 52\n",
      "\n",
      "page_content='这是一篇关于5G基础知识的文章' metadata={'source': '../data/docs/基础知识.md', 'languages': ['zho'], 'file_directory': '../data/docs', 'filename': '基础知识.md', 'filetype': 'text/markdown', 'last_modified': '2025-03-17T22:53:08', 'category': 'UncategorizedText', 'element_id': '85cf6bf482dd4bb223cd2587db4d9e63'}\n",
      "\n",
      "page_content='5G基础知识' metadata={'source': '../data/docs/基础知识.md', 'category_depth': 0, 'languages': ['zho'], 'file_directory': '../data/docs', 'filename': '基础知识.md', 'filetype': 'text/markdown', 'last_modified': '2025-03-17T22:53:08', 'category': 'Title', 'element_id': 'ab9fe0a1b8535afbcb3c0b28bf98d196'}\n",
      "\n",
      "page_content='5G背景' metadata={'source': '../data/docs/基础知识.md', 'category_depth': 1, 'languages': ['zho'], 'file_directory': '../data/docs', 'filename': '基础知识.md', 'filetype': 'text/markdown', 'last_modified': '2025-03-17T22:53:08', 'parent_id': 'ab9fe0a1b8535afbcb3c0b28bf98d196', 'category': 'Title', 'element_id': '1d3dd7a3b43f696341f93b7ba851278e'}\n",
      "\n"
     ]
    }
   ],
   "source": [
    "loader = UnstructuredMarkdownLoader(markdown_path, mode=\"elements\")\n",
    "\n",
    "data = loader.load()\n",
    "print(f\"Number of documents: {len(data)}\\n\")\n",
    "\n",
    "for document in data[:3]:\n",
    "    print(f\"{document}\\n\")"
   ]
  },
  {
   "cell_type": "markdown",
   "id": "55b88ebe-fce4-464d-8a78-0044dc2082b8",
   "metadata": {},
   "source": [
    "- 这是一个元素的示例输出：\n",
    "     - `page_content`：元素的内容，这里是 `5G基础知识`。\n",
    "     - `metadata`：元数据，包含以下信息：\n",
    "       - `source`：文件路径。\n",
    "       - `category_depth`：级别深度（这里是 0，代表是1级标题）。\n",
    "       - `languages`：语言（这里是中文 `zho`）。\n",
    "       - `file_directory`：文件所在目录。\n",
    "       - `filename`：文件名。\n",
    "       - `filetype`：文件类型（这里是 Markdown）。\n",
    "       - `last_modified`：最后修改时间。\n",
    "       - `category`：元素类别（这里是 `Title`，表示标题）。\n",
    "       - `element_id`：元素的唯一 ID。"
   ]
  },
  {
   "cell_type": "markdown",
   "id": "86c6faf9-b32f-41b6-9666-b81127f0e886",
   "metadata": {},
   "source": [
    "本来还想从头识别标题内容，现在我们直接借花献佛，使用上面结果中的参数`category_depth`来完成第二步的标题段落的识别和合并，我们这里是采用一级标题来做"
   ]
  },
  {
   "cell_type": "code",
   "execution_count": 5,
   "id": "95447027-eb8e-4a26-9385-29b67587c108",
   "metadata": {},
   "outputs": [
    {
     "data": {
      "text/plain": [
       "[Document(metadata={'source': '../data/docs/基础知识.md', 'languages': ['zho'], 'file_directory': '../data/docs', 'filename': '基础知识.md', 'filetype': 'text/markdown', 'last_modified': '2025-03-17T22:53:08', 'category': 'UncategorizedText', 'element_id': '85cf6bf482dd4bb223cd2587db4d9e63'}, page_content='这是一篇关于5G基础知识的文章'),\n",
       " Document(metadata={'source': '../data/docs/基础知识.md', 'category_depth': 0, 'languages': ['zho'], 'file_directory': '../data/docs', 'filename': '基础知识.md', 'filetype': 'text/markdown', 'last_modified': '2025-03-17T22:53:08', 'category': 'Title', 'element_id': 'ab9fe0a1b8535afbcb3c0b28bf98d196'}, page_content='5G基础知识'),\n",
       " Document(metadata={'source': '../data/docs/基础知识.md', 'category_depth': 1, 'languages': ['zho'], 'file_directory': '../data/docs', 'filename': '基础知识.md', 'filetype': 'text/markdown', 'last_modified': '2025-03-17T22:53:08', 'parent_id': 'ab9fe0a1b8535afbcb3c0b28bf98d196', 'category': 'Title', 'element_id': '1d3dd7a3b43f696341f93b7ba851278e'}, page_content='5G背景')]"
      ]
     },
     "execution_count": 5,
     "metadata": {},
     "output_type": "execute_result"
    }
   ],
   "source": [
    "data[:3]"
   ]
  },
  {
   "cell_type": "markdown",
   "id": "06052d1a-830a-4742-9e14-6741f0a46752",
   "metadata": {},
   "source": [
    "下面我们也给出基于正则来识别markdown中的文件，具体做法如下："
   ]
  },
  {
   "cell_type": "code",
   "execution_count": 6,
   "id": "71b4f267-e5bc-42b5-8db1-3ce5b79d4de1",
   "metadata": {},
   "outputs": [],
   "source": [
    "import re\n",
    "from langchain_core.documents import Document\n",
    "\n",
    "def parse_markdown_to_documents(content):\n",
    "    # 正则表达式匹配Markdown标题\n",
    "    heading_pattern = re.compile(r'^(#+)\\s*(.*)$', re.MULTILINE)\n",
    "    \n",
    "    # 存储解析结果\n",
    "    documents = []\n",
    "    \n",
    "    # 初始深度\n",
    "    current_depth = 0\n",
    "    \n",
    "    # 分割内容\n",
    "    sections = content.split('\\n')\n",
    "    \n",
    "    for section in sections:\n",
    "        # 检查是否是标题\n",
    "        heading_match = heading_pattern.match(section)\n",
    "        if heading_match:\n",
    "            # 计算标题的深度\n",
    "            current_depth = len(heading_match.group(1)) - 1\n",
    "            # 提取标题内容\n",
    "            page_content = heading_match.group(2).strip()\n",
    "            # 添加到结果中\n",
    "            documents.append(\n",
    "                Document(\n",
    "                    page_content=page_content,\n",
    "                    metadata={\"category_depth\":current_depth}\n",
    "                )\n",
    "            )\n",
    "        else:\n",
    "            # 如果不是标题，且内容不为空，则添加到结果中\n",
    "            if section.strip():\n",
    "                documents.append(\n",
    "                    Document(page_content=section.strip(),metadata={})\n",
    "                )\n",
    "    return documents\n",
    "\n",
    "# 示例调用\n",
    "with open(markdown_path,\"r\",encoding=\"utf-8\") as f:\n",
    "    content=f.read()"
   ]
  },
  {
   "cell_type": "code",
   "execution_count": 7,
   "id": "cac10a16-3ecd-43cd-b60f-eb28b9be6dd5",
   "metadata": {},
   "outputs": [],
   "source": [
    "parsed_documents = parse_markdown_to_documents(content)\n",
    "# merge_title_content(parsed_documents)"
   ]
  },
  {
   "cell_type": "code",
   "execution_count": 8,
   "id": "d0bf0b38-34b5-4192-bd87-f239668f4575",
   "metadata": {},
   "outputs": [
    {
     "data": {
      "text/plain": [
       "[Document(metadata={}, page_content='这是一篇关于5G基础知识的文章'),\n",
       " Document(metadata={'category_depth': 0}, page_content='5G基础知识'),\n",
       " Document(metadata={'category_depth': 1}, page_content='5G背景'),\n",
       " Document(metadata={}, page_content='流量指数级增长、人与人的通信过度到人与物和物与物、应用场景多样化这三方面催生了 5G。'),\n",
       " Document(metadata={}, page_content='2G、3G、4G 主要解决人与人之间的通信，5G 不仅要解决人与人之间的通信，而且要解决人与物、物与物之间的通信，从而达成万物互联的目的。'),\n",
       " Document(metadata={'category_depth': 1}, page_content='5G新技术三个特征'),\n",
       " Document(metadata={'category_depth': 2}, page_content='新核心网'),\n",
       " Document(metadata={}, page_content='4G 核心网就像是在一块空地上建好的房子，每个房间都有其固定用途，不能用作他用。而 5G 核心网只提供了地皮和一些标准件，我们可以像搭积木一样随心所欲的按照自己喜欢的房间样式自由组合；'),\n",
       " Document(metadata={'category_depth': 2}, page_content='新传输网'),\n",
       " Document(metadata={}, page_content='SPN 具备前传、中传和回传的端到端组网能力，支持端到端网络硬切片能力，满足动态灵活连接需求；'),\n",
       " Document(metadata={'category_depth': 2}, page_content='新无线网'),\n",
       " Document(metadata={}, page_content='频谱效率提升 3 倍，连接数密度提升 10 倍，峰值速率提升 10 倍，空口时延迟为降低到原来的 1/10；'),\n",
       " Document(metadata={'category_depth': 1}, page_content='5G三大场景'),\n",
       " Document(metadata={}, page_content='eMMB 增强移动宽带'),\n",
       " Document(metadata={}, page_content='uRLLC 超高可靠性与超低时延业务'),\n",
       " Document(metadata={}, page_content='mMTC 海量物联网通信'),\n",
       " Document(metadata={}, page_content='用户体验速率是 4G 的 10-100 倍，每平方公里的链接数是 4G 的 10 倍，典型场景的时延可低至 10ms 以内。'),\n",
       " Document(metadata={'category_depth': 1}, page_content='5G与4G的对比'),\n",
       " Document(metadata={}, page_content='5G 网络像一个魔方，它可以根据需求不停变形，从而满足个人或者企业不同的个性化需求。'),\n",
       " Document(metadata={}, page_content='4G 网络千人一面，5G 网络千人千面。'),\n",
       " Document(metadata={'category_depth': 1}, page_content='5G与WiFi的对比'),\n",
       " Document(metadata={}, page_content='WiFi 秉承互联网“始终尽力而为”的传统：“不管什么情况，我尽可能给您快，不保障一直够快，偶尔卡死，您见谅！”。'),\n",
       " Document(metadata={}, page_content='5G 则秉承着更有保障的 QoS 承诺，紧急业务时延一定可控，非紧急业务尽力而为。不同WiFi 需要手动连接，5G 无缝切换。'),\n",
       " Document(metadata={'category_depth': 1}, page_content='5G与有线的对比'),\n",
       " Document(metadata={}, page_content='剪掉辫子，随时随地不受限。有线易磨损，改造成本高。5G 无线让最后一公里的接入更灵活。'),\n",
       " Document(metadata={'category_depth': 0}, page_content='5G 专网知识'),\n",
       " Document(metadata={'category_depth': 1}, page_content='基本概念'),\n",
       " Document(metadata={}, page_content='基于授权频谱，为专有行业客户提供服务范围、网络能力、隔离度可定制的 5G 通信服务。'),\n",
       " Document(metadata={'category_depth': 1}, page_content='专网模式'),\n",
       " Document(metadata={}, page_content='优享：复用大网资源，通过配置 5QI、DNN、网络切片等保障行业用户的 QOS。'),\n",
       " Document(metadata={}, page_content='专享：无线侧按需补点增强覆盖，PRB 资源预留，核心网用户面UPF 和边缘计算MEP 设备按需下沉。'),\n",
       " Document(metadata={}, page_content='尊享：基站和频率资源独享实现高隔离高可靠，核心网用户面专用，控制面资源按需提供。'),\n",
       " Document(metadata={'category_depth': 1}, page_content='BAF商业模式'),\n",
       " Document(metadata={}, page_content='BAF 网络服务模式基于 5G 产品清单，包括 3 项基础架构（B），12 项增值功能（A），个性化组合(Flexible)，满足客户的个性化需求实现让客户“按单点菜”。'),\n",
       " Document(metadata={'category_depth': 1}, page_content='用户面功能 UPF'),\n",
       " Document(metadata={}, page_content='可以把UPF 看成一个路由器主要实现分流，5GC 核心网上面的网元 SMF 制定分流策略，'),\n",
       " Document(metadata={}, page_content='通过 DNN 或ULCL 的方式，需要到达内网的数据可以直接进行 MEC，MEC 处理后，进入用户的内网，这样的数据传输环节将大大减小，适合许多时延要求较高的应用，同时基于 5G 的特性，可以传输类似于视频之类的大数据业务。'),\n",
       " Document(metadata={'category_depth': 1}, page_content='边缘计算 MEC'),\n",
       " Document(metadata={}, page_content='边缘计算最常用的比喻就是章鱼的神经系统。它的大脑作为中央节点只处理 40%的信息，主要负责总体协同，剩余的 60%的信息则由 8 条触手（相当于边缘节点）就近处理。'),\n",
       " Document(metadata={'category_depth': 1}, page_content='网络切片'),\n",
       " Document(metadata={}, page_content='说 4G 网络是一把刀，足可削铁如泥、吹毛断发。那么，5G 网络就是一把瑞士军刀，灵活方便、多功能用途。每个虚拟网络就像是瑞士军刀上的钳子、锯子一样，具备不同的功能特点，面向不同的需求和服务。'),\n",
       " Document(metadata={'category_depth': 1}, page_content='边缘云'),\n",
       " Document(metadata={}, page_content='把云计算看作是大脑，那么边缘计算就像是大脑输出的神经触角，这些触角连接到各个终端运行各种动作。'),\n",
       " Document(metadata={'category_depth': 0}, page_content='5G 双域专网'),\n",
       " Document(metadata={'category_depth': 1}, page_content='基本概念'),\n",
       " Document(metadata={}, page_content='以 5G 专网为基础提供服务于 5G 用户的 2B2C 双域网络模式，可满足企业用户“不换卡、不换号、无感知切换”，随时随地、安全快捷访问办公内网和互联网，助力企业办公移动化、灵活化。'),\n",
       " Document(metadata={'category_depth': 1}, page_content='应用场景'),\n",
       " Document(metadata={}, page_content='（1） 强调“广域接入”，移动终端“不换卡不换号”、强调支持特定号码全国漫游自由接入双域专网；'),\n",
       " Document(metadata={}, page_content='（2） 强调“局域接入”，移动终端“不换卡不换号”、强调支持特定号码、特定区域自由接入双域专网，要求出区域禁止访问专网。'),\n",
       " Document(metadata={}, page_content='（3） 强调“局域接入”，移动终端“不换卡不换号”、强调支持非特定号码、特定区域自由接入双域专网，要求出区域禁止访问专网。'),\n",
       " Document(metadata={'category_depth': 1}, page_content='实现方案'),\n",
       " Document(metadata={}, page_content='（1）通用 DNN+ULCL；（2）专用 DNN+IP 分流；（3）通用 DNN+ULCL+专用 DNN（可选）；（4）通用 DNN+专用 DNN+IP 分流。')]"
      ]
     },
     "execution_count": 8,
     "metadata": {},
     "output_type": "execute_result"
    }
   ],
   "source": [
    "parsed_documents"
   ]
  },
  {
   "cell_type": "markdown",
   "id": "e9c22119-0a80-4caf-9564-6dab4621aab5",
   "metadata": {},
   "source": [
    "## 第二步：标题段落内容识别合并"
   ]
  },
  {
   "cell_type": "code",
   "execution_count": 9,
   "id": "871de921-a66d-4107-a744-24831736fe62",
   "metadata": {},
   "outputs": [],
   "source": [
    "def merge_title_content(data):\n",
    "    merged_data = []\n",
    "    current_title = None\n",
    "    current_content = []\n",
    "\n",
    "    for document in data:\n",
    "        metadata = document.metadata\n",
    "        category_depth = metadata.get('category_depth', None)\n",
    "        page_content = document.page_content\n",
    "\n",
    "        # 如果 category_depth 为 0，表示遇到一级标题\n",
    "        if category_depth == 0:\n",
    "            # 如果当前标题不为空，表示已经收集了一个完整的一级标题及其内容\n",
    "            if current_title is not None:\n",
    "                # 将当前标题和内容合并为一个字符串，并添加到 merged_data 中\n",
    "                merged_content = \"\\n\".join(current_content)\n",
    "                merged_data.append({\n",
    "                    'title': current_title,\n",
    "                    'content': merged_content\n",
    "                })\n",
    "                # 重置当前标题和内容\n",
    "                current_content = []\n",
    "\n",
    "            # 更新当前标题，并根据 category_depth 添加 Markdown 标记\n",
    "            current_title = f\"{'#' * (category_depth + 1)} {page_content}\"\n",
    "\n",
    "        # 如果 category_depth 不是 0，表示是正文或其他内容\n",
    "        else:\n",
    "            # 如果当前标题为空，表示一开始就是正文\n",
    "            if current_title is None:\n",
    "                merged_data.append({\n",
    "                    'title': '',\n",
    "                    'content': page_content\n",
    "                })\n",
    "            # 一级标题之外的标题，比如二级、三级等\n",
    "            elif category_depth is not None:\n",
    "                # 添加 Markdown 标题标记\n",
    "                current_content.append(f\"{'#' * (category_depth + 1)} {document.page_content}\")\n",
    "            else:\n",
    "                # 将内容添加到当前内容列表中\n",
    "                current_content.append(page_content)\n",
    "\n",
    "    # 处理最后一个标题及其内容\n",
    "    if current_title is not None:\n",
    "        merged_content = \"\\n\".join(current_content)\n",
    "        merged_data.append({\n",
    "            'title': current_title,\n",
    "            'content': merged_content\n",
    "        })\n",
    "\n",
    "    return merged_data"
   ]
  },
  {
   "cell_type": "markdown",
   "id": "027f2fbe-c372-4cdc-bfc2-21f96d399306",
   "metadata": {},
   "source": [
    "## 假设 data 是已经加载的文档列表\n",
    "merged_data = merge_title_content(data)\n",
    "\n",
    "# 输出合并后的标题和内容\n",
    "for item in merged_data:\n",
    "    print(f\"一级标题: {item['title']}\")\n",
    "    print(f\"段落内容: {item['content']}\\n\")\n",
    "    print(\"===\"*10)"
   ]
  },
  {
   "cell_type": "code",
   "execution_count": 11,
   "id": "88b89379-ca3c-4226-8f69-e7f123dfd0b9",
   "metadata": {},
   "outputs": [
    {
     "data": {
      "text/plain": [
       "4"
      ]
     },
     "execution_count": 11,
     "metadata": {},
     "output_type": "execute_result"
    }
   ],
   "source": [
    "len(merged_data)"
   ]
  },
  {
   "cell_type": "markdown",
   "id": "5a4eb2df-2514-4ab9-bb3d-60f7b8f0efd8",
   "metadata": {},
   "source": [
    "## 第三步：内容切片\n",
    "\n",
    "对于内容切片，常用的文本分块方法包括：固定大小分块、基于 NTLK 分块、特殊格式分块、深度学习模型分块、智能体式分块。\n",
    "\n",
    "下面我们采用常用的固定大小分块在`段落内容内`进行切块进行切块,为了保证语义的完整性，首先对段落内容进行句子切片，然后按照chunk_size窗口大小对句子进行合并，如果不满足窗口大小就添加下一个句子，一直到大于等于窗口大小就停止。"
   ]
  },
  {
   "cell_type": "code",
   "execution_count": 12,
   "id": "d9a59921-ce22-4204-a869-4985102f86f2",
   "metadata": {},
   "outputs": [
    {
     "name": "stderr",
     "output_type": "stream",
     "text": [
      "<>:2: SyntaxWarning: invalid escape sequence '\\P'\n",
      "<>:2: SyntaxWarning: invalid escape sequence '\\P'\n",
      "C:\\Users\\yanqiang\\AppData\\Local\\Temp\\ipykernel_27564\\2981599858.py:2: SyntaxWarning: invalid escape sequence '\\P'\n",
      "  sys.path.append('G:\\Projects\\TrustRAG')\n"
     ]
    }
   ],
   "source": [
    "import sys\n",
    "sys.path.append('G:\\Projects\\TrustRAG')\n",
    "# !pwd"
   ]
  },
  {
   "cell_type": "code",
   "execution_count": 13,
   "id": "dc5aa33c-8a2f-4d3d-aab9-f79aec446e7d",
   "metadata": {},
   "outputs": [
    {
     "name": "stdout",
     "output_type": "stream",
     "text": [
      "RAG Vocab: G:\\Projects\\TrustRAG\\trustrag\\modules\\document\\huqie.txt\n",
      "RAG Trie: G:\\Projects\\TrustRAG\\trustrag\\modules\\document\\huqie.txt.trie\n"
     ]
    }
   ],
   "source": [
    "from trustrag.modules.document.chunk import TextChunker"
   ]
  },
  {
   "cell_type": "code",
   "execution_count": 14,
   "id": "442183a9-bd20-4e17-a93a-6b32e95b4f47",
   "metadata": {},
   "outputs": [],
   "source": [
    "tc=TextChunker()"
   ]
  },
  {
   "cell_type": "code",
   "execution_count": 18,
   "id": "51f18450-4215-46a5-8b25-eb993b3de075",
   "metadata": {},
   "outputs": [],
   "source": [
    "paragraphs=[item[\"title\"]+\"\\n\"+item[\"content\"] for item in merged_data]\n",
    "chunks=[]\n",
    "for para in paragraphs:\n",
    "    chunks.extend(tc.get_chunks(para,chunk_size=1024))"
   ]
  },
  {
   "cell_type": "code",
   "execution_count": 19,
   "id": "15f5eeb7-5012-43e6-8d84-9beedf262c9b",
   "metadata": {},
   "outputs": [
    {
     "data": {
      "text/plain": [
       "4"
      ]
     },
     "execution_count": 19,
     "metadata": {},
     "output_type": "execute_result"
    }
   ],
   "source": [
    "len(chunks)"
   ]
  },
  {
   "cell_type": "code",
   "execution_count": 20,
   "id": "e16aa46e-0ad3-4e4e-96c8-8bbd8975e097",
   "metadata": {},
   "outputs": [
    {
     "data": {
      "text/plain": [
       "['这是一篇关于5G基础知识的文章',\n",
       " '# 5G基础知识\\n## 5G背景\\n流量指数级增长、人与人的通信过度到人与物和物与物、应用场景多样化这三方面催生了 5G。2G、3G、4G 主要解决人与人之间的通信，5G 不仅要解决人与人之间的通信，而且要解决人与物、物与物之间的通信，从而达成万物互联的目的。## 5G新技术三个特征\\n### 新核心网\\n4G 核心网就像是在一块空地上建好的房子，每个房间都有其固定用途，不能用作他用。而 5G 核心网只提供了地皮和一些标准件，我们可以像搭积木一样随心所欲的按照自己喜欢的房间样式自由组合；\\n### 新传输网\\nSPN 具备前传、中传和回传的端到端组网能力，支持端到端网络硬切片能力，满足动态灵活连接需求；\\n### 新无线网\\n频谱效率提升 3 倍，连接数密度提升 10 倍，峰值速率提升 10 倍，空口时延迟为降低到原来的 1/10；\\n## 5G三大场景\\neMMB 增强移动宽带\\nuRLLC 超高可靠性与超低时延业务\\nmMTC 海量物联网通信\\n用户体验速率是 4G 的 10-100 倍，每平方公里的链接数是 4G 的 10 倍，典型场景的时延可低至 10ms 以内。## 5G与4G的对比\\n5G 网络像一个魔方，它可以根据需求不停变形，从而满足个人或者企业不同的个性化需求。4G 网络千人一面，5G 网络千人千面。## 5G与WiFi的对比\\nWiFi 秉承互联网“始终尽力而为”的传统：“不管什么情况，我尽可能给您快，不保障一直够快，偶尔卡死，您见谅！”。5G 则秉承着更有保障的 QoS 承诺，紧急业务时延一定可控，非紧急业务尽力而为。不同WiFi 需要手动连接，5G 无缝切换。## 5G与有线的对比\\n剪掉辫子，随时随地不受限。有线易磨损，改造成本高。5G 无线让最后一公里的接入更灵活。',\n",
       " '# 5G 专网知识\\n## 基本概念\\n基于授权频谱，为专有行业客户提供服务范围、网络能力、隔离度可定制的 5G 通信服务。## 专网模式\\n优享：复用大网资源，通过配置 5QI、DNN、网络切片等保障行业用户的 QOS。专享：无线侧按需补点增强覆盖，PRB 资源预留，核心网用户面UPF 和边缘计算MEP 设备按需下沉。尊享：基站和频率资源独享实现高隔离高可靠，核心网用户面专用，控制面资源按需提供。## BAF商业模式\\nBAF 网络服务模式基于 5G 产品清单，包括 3 项基础架构（B），12 项增值功能（A），个性化组合(Flexible)，满足客户的个性化需求实现让客户“按单点菜”。## 用户面功能 UPF\\n可以把UPF 看成一个路由器主要实现分流，5GC 核心网上面的网元 SMF 制定分流策略，\\n通过 DNN 或ULCL 的方式，需要到达内网的数据可以直接进行 MEC，MEC 处理后，进入用户的内网，这样的数据传输环节将大大减小，适合许多时延要求较高的应用，同时基于 5G 的特性，可以传输类似于视频之类的大数据业务。## 边缘计算 MEC\\n边缘计算最常用的比喻就是章鱼的神经系统。它的大脑作为中央节点只处理 40%的信息，主要负责总体协同，剩余的 60%的信息则由 8 条触手（相当于边缘节点）就近处理。## 网络切片\\n说 4G 网络是一把刀，足可削铁如泥、吹毛断发。那么，5G 网络就是一把瑞士军刀，灵活方便、多功能用途。每个虚拟网络就像是瑞士军刀上的钳子、锯子一样，具备不同的功能特点，面向不同的需求和服务。## 边缘云\\n把云计算看作是大脑，那么边缘计算就像是大脑输出的神经触角，这些触角连接到各个终端运行各种动作。',\n",
       " '# 5G 双域专网\\n## 基本概念\\n以 5G 专网为基础提供服务于 5G 用户的 2B2C 双域网络模式，可满足企业用户“不换卡、不换号、无感知切换”，随时随地、安全快捷访问办公内网和互联网，助力企业办公移动化、灵活化。## 应用场景\\n（1） 强调“广域接入”，移动终端“不换卡不换号”、强调支持特定号码全国漫游自由接入双域专网；\\n（2） 强调“局域接入”，移动终端“不换卡不换号”、强调支持特定号码、特定区域自由接入双域专网，要求出区域禁止访问专网。（3） 强调“局域接入”，移动终端“不换卡不换号”、强调支持非特定号码、特定区域自由接入双域专网，要求出区域禁止访问专网。## 实现方案\\n（1）通用 DNN+ULCL；（2）专用 DNN+IP 分流；（3）通用 DNN+ULCL+专用 DNN（可选）；（4）通用 DNN+专用 DNN+IP 分流。']"
      ]
     },
     "execution_count": 20,
     "metadata": {},
     "output_type": "execute_result"
    }
   ],
   "source": [
    "chunks"
   ]
  },
  {
   "cell_type": "code",
   "execution_count": null,
   "id": "04cca515-abe8-4fda-b4ae-d86d6f6905c2",
   "metadata": {},
   "outputs": [],
   "source": []
  }
 ],
 "metadata": {
  "kernelspec": {
   "display_name": "Python 3 (ipykernel)",
   "language": "python",
   "name": "python3"
  },
  "language_info": {
   "codemirror_mode": {
    "name": "ipython",
    "version": 3
   },
   "file_extension": ".py",
   "mimetype": "text/x-python",
   "name": "python",
   "nbconvert_exporter": "python",
   "pygments_lexer": "ipython3",
   "version": "3.10.16"
  }
 },
 "nbformat": 4,
 "nbformat_minor": 5
}
